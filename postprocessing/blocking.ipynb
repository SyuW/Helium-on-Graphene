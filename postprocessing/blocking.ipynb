{
 "cells": [
  {
   "cell_type": "code",
   "execution_count": 2,
   "metadata": {},
   "outputs": [
    {
     "ename": "ModuleNotFoundError",
     "evalue": "No module named 'matplotlib'",
     "output_type": "error",
     "traceback": [
      "\u001b[0;31m---------------------------------------------------------------------------\u001b[0m",
      "\u001b[0;31mModuleNotFoundError\u001b[0m                       Traceback (most recent call last)",
      "\u001b[1;32m/home/syu7/scratch/scripts/postprocessing/blocking.ipynb Cell 1\u001b[0m line \u001b[0;36m1\n\u001b[0;32m----> <a href='vscode-notebook-cell://ssh-remote%2Bcedar.computecanada.ca/home/syu7/scratch/scripts/postprocessing/blocking.ipynb#W0sdnNjb2RlLXJlbW90ZQ%3D%3D?line=0'>1</a>\u001b[0m \u001b[39mimport\u001b[39;00m \u001b[39mmatplotlib\u001b[39;00m\u001b[39m.\u001b[39;00m\u001b[39mpyplot\u001b[39;00m \u001b[39mas\u001b[39;00m \u001b[39mplt\u001b[39;00m\n\u001b[1;32m      <a href='vscode-notebook-cell://ssh-remote%2Bcedar.computecanada.ca/home/syu7/scratch/scripts/postprocessing/blocking.ipynb#W0sdnNjb2RlLXJlbW90ZQ%3D%3D?line=1'>2</a>\u001b[0m \u001b[39mimport\u001b[39;00m \u001b[39mnumpy\u001b[39;00m \u001b[39mas\u001b[39;00m \u001b[39mnp\u001b[39;00m\n",
      "\u001b[0;31mModuleNotFoundError\u001b[0m: No module named 'matplotlib'"
     ]
    }
   ],
   "source": [
    "import matplotlib.pyplot as plt\n",
    "import numpy as np"
   ]
  },
  {
   "cell_type": "code",
   "execution_count": 1,
   "metadata": {},
   "outputs": [
    {
     "name": "stdout",
     "output_type": "stream",
     "text": [
      "Package                   Version\n",
      "------------------------- ----------------------\n",
      "anyio                     3.7.1+computecanada\n",
      "argon2_cffi               21.3.0+computecanada\n",
      "argon2_cffi_bindings      21.2.0+computecanada\n",
      "arrow                     1.2.3+computecanada\n",
      "asttokens                 2.2.1+computecanada\n",
      "attrs                     23.1.0+computecanada\n",
      "backcall                  0.2.0+computecanada\n",
      "beautifulsoup4            4.12.2+computecanada\n",
      "bleach                    6.0.0+computecanada\n",
      "cffi                      1.15.1+computecanada\n",
      "comm                      0.1.2+computecanada\n",
      "debugpy                   1.6.6+computecanada\n",
      "decorator                 5.1.1+computecanada\n",
      "defusedxml                0.7.1+computecanada\n",
      "exceptiongroup            1.1.2+computecanada\n",
      "executing                 1.2.0+computecanada\n",
      "fastjsonschema            2.18.0+computecanada\n",
      "fqdn                      1.5.1+computecanada\n",
      "idna                      3.4+computecanada\n",
      "ipykernel                 6.21.2+computecanada\n",
      "ipython                   8.10.0+computecanada\n",
      "ipython_genutils          0.2.0+computecanada\n",
      "ipywidgets                8.0.7+computecanada\n",
      "isoduration               20.11.0+computecanada\n",
      "jedi                      0.18.2+computecanada\n",
      "Jinja2                    3.1.2+computecanada\n",
      "jsonpointer               2.3+computecanada\n",
      "jsonschema                4.18.4+computecanada\n",
      "jsonschema_specifications 2023.7.1+computecanada\n",
      "jupyter                   1.0.0+computecanada\n",
      "jupyter_client            8.3.0+computecanada\n",
      "jupyter-console           6.4.0+computecanada\n",
      "jupyter_core              5.3.1+computecanada\n",
      "jupyter_events            0.6.3+computecanada\n",
      "jupyter_server            2.3.0+computecanada\n",
      "jupyter_server_terminals  0.4.4+computecanada\n",
      "jupyterlab_pygments       0.2.2+computecanada\n",
      "jupyterlab_widgets        3.0.8+computecanada\n",
      "jupyterlmod               4.0.3\n",
      "MarkupSafe                2.1.2+computecanada\n",
      "matplotlib_inline         0.1.6+computecanada\n",
      "mistune                   3.0.1+computecanada\n",
      "nbclassic                 0.5.2+computecanada\n",
      "nbclient                  0.8.0+computecanada\n",
      "nbconvert                 7.7.3+computecanada\n",
      "nbformat                  5.9.1+computecanada\n",
      "nest_asyncio              1.5.6+computecanada\n",
      "notebook                  6.5.2+computecanada\n",
      "notebook_shim             0.2.2+computecanada\n",
      "packaging                 23.1+computecanada\n",
      "pandocfilters             1.5.0+computecanada\n",
      "parso                     0.8.3+computecanada\n",
      "pexpect                   4.8.0+computecanada\n",
      "pickleshare               0.7.5+computecanada\n",
      "pip                       23.1.2\n",
      "platformdirs              3.9.1+computecanada\n",
      "prometheus_client         0.17.1+computecanada\n",
      "prompt_toolkit            3.0.38+computecanada\n",
      "psutil                    5.9.4+computecanada\n",
      "ptyprocess                0.7.0+computecanada\n",
      "pure_eval                 0.2.2+computecanada\n",
      "pycparser                 2.21+computecanada\n",
      "Pygments                  2.15.1+computecanada\n",
      "python-dateutil           2.8.2+computecanada\n",
      "python_json_logger        2.0.7+computecanada\n",
      "PyYAML                    6.0+computecanada\n",
      "pyzmq                     25.0.0+computecanada\n",
      "qtconsole                 5.3.2+computecanada\n",
      "QtPy                      2.2.0+computecanada\n",
      "referencing               0.30.0+computecanada\n",
      "rfc3339_validator         0.1.4+computecanada\n",
      "rfc3986_validator         0.1.1+computecanada\n",
      "rpds_py                   0.8.8+computecanada\n",
      "Send2Trash                1.8.2+computecanada\n",
      "setuptools                68.0.0+computecanada\n",
      "six                       1.16.0+computecanada\n",
      "sniffio                   1.3.0+computecanada\n",
      "soupsieve                 2.4.1+computecanada\n",
      "stack_data                0.6.2+computecanada\n",
      "terminado                 0.17.1+computecanada\n",
      "tinycss2                  1.2.1+computecanada\n",
      "tornado                   6.2+computecanada\n",
      "traitlets                 5.9.0+computecanada\n",
      "uri_template              1.2.0+computecanada\n",
      "wcwidth                   0.2.6+computecanada\n",
      "webcolors                 1.13+computecanada\n",
      "webencodings              0.5.1+computecanada\n",
      "websocket_client          1.6.1+computecanada\n",
      "wheel                     0.40.0+computecanada\n",
      "widgetsnbextension        4.0.8+computecanada\n"
     ]
    }
   ],
   "source": [
    "!pip list"
   ]
  },
  {
   "cell_type": "code",
   "execution_count": null,
   "metadata": {},
   "outputs": [],
   "source": []
  }
 ],
 "metadata": {
  "kernelspec": {
   "display_name": "QMC",
   "language": "python",
   "name": "python3"
  },
  "language_info": {
   "codemirror_mode": {
    "name": "ipython",
    "version": 3
   },
   "file_extension": ".py",
   "mimetype": "text/x-python",
   "name": "python",
   "nbconvert_exporter": "python",
   "pygments_lexer": "ipython3",
   "version": "3.10.2"
  },
  "orig_nbformat": 4
 },
 "nbformat": 4,
 "nbformat_minor": 2
}
